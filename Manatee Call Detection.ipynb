{
 "cells": [
  {
   "cell_type": "markdown",
   "id": "agreed-staff",
   "metadata": {},
   "source": [
    "# Project 2 - Manatee Call Detection\n",
    "*Ian Malone"
   ]
  },
  {
   "cell_type": "markdown",
   "id": "korean-neighbor",
   "metadata": {},
   "source": [
    "## Project Description"
   ]
  },
  {
   "cell_type": "markdown",
   "id": "congressional-translator",
   "metadata": {},
   "source": [
    "The purpose of this project is to design and evaluate a machine learning detection approach to distinguish the manatee calls from the background.\n",
    "\n",
    "The data sets as follows: \n",
    "(1) a file (train_signal.wav) with 10 different manatee calls segmented\n",
    "by the biologist that represent the signal class we would like to detect\n",
    "(2) a 2 second noise background file (noise_signal.wav) that represents the acoustic noise picked up by the hydrophone\n",
    "(3) the continuous file (test_signal.wav) with unsegmented manatee calls mixed with background noise that lasts approximately 30 seconds. \n",
    "\n",
    "The sampling rate is 48 KHz"
   ]
  },
  {
   "cell_type": "markdown",
   "id": "inner-chosen",
   "metadata": {},
   "source": [
    "#### Steps"
   ]
  },
  {
   "attachments": {},
   "cell_type": "markdown",
   "id": "resistant-registrar",
   "metadata": {},
   "source": [
    "Overall goal: \n",
    "- Compare two approaches of time series segmentation\n",
    "\n",
    "First steps:\n",
    "- Take spectrograms of the data\n",
    "    - Find where most of the power is in the signal\n",
    "    \n",
    "\n",
    "Approach 1:\n",
    "- Train an NLMS filter using the MCC cost function for the manatee calls train data and the background noise\n",
    "    - MCC likely better than MSE because of the high noise environment\n",
    "- Look at frequency response of the model coefficients or the impulse response of the system to see if the system is doing what it is supposed to\n",
    "    - High output for the correct frequency ranges (due to match filter)\n",
    "- Input data into each model (match filters)\n",
    "- Classify the signal based on which filter's output is higher\n",
    "    - Make sure to normalize so the filters are outputting with the same magnitude\n",
    "    - Normalize to max output of filter?\n",
    "\n",
    "Approach 2:\n",
    "- The time series is not memoryless (!! have to do something about this !!)\n",
    "- Create model for manatee and background\n",
    "- Then work with the prediction error\n",
    "- SPRT test (assume the signal has two modes)\n",
    "- Select thresholdsd for SPRT test to find the mode that the time series is on\n",
    "- Apply CUSUM to find when this mode changes\n",
    "\n",
    "Present results:\n",
    "- Use an ROC to evaluate approaches (because this is a detection problem\n",
    "    - Look at the difference between the two signals\n",
    "    - Put threshold on the difference\n",
    "    - Change threshold to go from detecting \n",
    "    \n",
    "    \n",
    "\t\n",
    "\t\t\t\n",
    "\t\t\t\t□ One network per class model… create a match filter for manatee calls and one for background and the winner take all will choose the highest of the two and assign the correct label\n",
    "\t\t\t\t□ Instead of using this arrangement, you could also train a classifier with a state model that would discriminate between two states… we can do this too if you want but you should compare it with the arrangement he suggested\n",
    "\t\t\t\t□ His arrangement is not the best, but it fits better with the material that has been presented in the course\n",
    "\t\t\t§ You have to compare to approaches\n",
    "\t\t\t\t□ One approach is a linear filter\n",
    "\t\t\t\t□ Other approach\n",
    "\t\t\t\t\t® SPRT test, assume the signal has two modes\n",
    "\t\t\t\t\t® Come up with model for manatee and background\n",
    "\t\t\t\t\t® Select thresholds for SPRT test to find the mode that the time series is on\n",
    "\t\t\t\t\t® Apply the CUSUM algorithm to find when this mode changes\n",
    "\t\t\t\t\t® The time series is not memoryless (you have a signal with autocorrelation functions that are not delta functions)\n",
    "\t\t\t\t\t® So you have to come up with a model for the manatees and a model for the background and then do the SPRT test and the CUSUM test on the prediction error\n",
    "\t\t\t\t\t\t◊ This exactly fits one of the cases that we have discussed in our lecture\n",
    "\t\t\t§ MCC will probably perform better than MSE because the environment has a lot of noise… maximizing MCC prob better\n",
    "\t\t\t\t□ Could do both and see what's better\n",
    "\t\t\t§ Can do linear or nonlinear filters\n",
    "\t\t\t§ You should look at the data\n",
    "\t\t\t\t□ It is important that we do not apply algorithms to data that we don’t understand\n",
    "\t\t\t§ Important for you to take spectrograms of the data\n",
    "\t\t\t\t□ Find where most power is in the signal\n",
    "\t\t\t\t□ Look at frequency response of the model coefficients that you get or the impulse response of the system to see if the system is doing what it is supposed to do\n",
    "\t\t\t\t□ Important to check the quality of our models\n",
    "\t\t\t\t□ You are just building match filters, so you should expect things and look at the filters you are using\n",
    "\t\t\t§ Presentation of results\n",
    "\t\t\t\t□ This is a detection problem\n",
    "\t\t\t\t□ You should have a ROC\n",
    "\t\t\t\t\t® Best way to characterize the performance of your system because it is a detector\n",
    "\t\t\t\t\t® The threshold is the difference between the two signals, put threshold on difference, change threshold… goes from detecting all background and you should get to the point where all of the manatee calls you have in your test set should be detected\n",
    "\t\t\t\t\t® THERE ARE 16 MANATEE CALLS\n",
    "\t\t\t\t\t\t◊ Use your ear to determine where they are\n",
    "\t\t\t\t\t\t◊ You will probably find 15 of the 16 calls\n",
    "\t\t\t\t\t\t◊ How well does your detector agree with your ear"
   ]
  },
  {
   "cell_type": "markdown",
   "id": "excess-tobacco",
   "metadata": {},
   "source": [
    "## Project Implementation"
   ]
  },
  {
   "cell_type": "markdown",
   "id": "temporal-humidity",
   "metadata": {},
   "source": [
    "#### Import Libraries"
   ]
  },
  {
   "cell_type": "code",
   "execution_count": 1,
   "id": "fatty-dominican",
   "metadata": {},
   "outputs": [
    {
     "name": "stdout",
     "output_type": "stream",
     "text": [
      "time: 0 ns (started: 2021-04-10 19:54:52 -04:00)\n"
     ]
    }
   ],
   "source": [
    "import scipy.io\n",
    "from scipy.fft import fft, fftfreq, rfft, rfftfreq\n",
    "import numpy as np\n",
    "import pandas as pd\n",
    "import matplotlib.pyplot as plt\n",
    "import seaborn as sns\n",
    "import IPython.display as ipd\n",
    "%load_ext autotime"
   ]
  },
  {
   "cell_type": "markdown",
   "id": "general-military",
   "metadata": {},
   "source": [
    "#### Load files"
   ]
  }
 ],
 "metadata": {
  "kernelspec": {
   "display_name": "Python 3",
   "language": "python",
   "name": "python3"
  },
  "language_info": {
   "codemirror_mode": {
    "name": "ipython",
    "version": 3
   },
   "file_extension": ".py",
   "mimetype": "text/x-python",
   "name": "python",
   "nbconvert_exporter": "python",
   "pygments_lexer": "ipython3",
   "version": "3.8.5"
  }
 },
 "nbformat": 4,
 "nbformat_minor": 5
}
