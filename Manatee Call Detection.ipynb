{
 "cells": [
  {
   "cell_type": "markdown",
   "id": "divine-lewis",
   "metadata": {},
   "source": [
    "# Project 2 - Manatee Call Detection\n",
    "*Ian Malone"
   ]
  },
  {
   "cell_type": "markdown",
   "id": "moving-chancellor",
   "metadata": {},
   "source": [
    "## Project Description"
   ]
  },
  {
   "cell_type": "markdown",
   "id": "weighted-wages",
   "metadata": {},
   "source": [
    "The purpose of this project is to design and evaluate a machine learning detection approach to distinguish the manatee calls from the background.\n",
    "\n",
    "The data sets as follows: \n",
    "(1) a file (train_signal.wav) with 10 different manatee calls segmented\n",
    "by the biologist that represent the signal class we would like to detect\n",
    "(2) a 2 second noise background file (noise_signal.wav) that represents the acoustic noise picked up by the hydrophone\n",
    "(3) the continuous file (test_signal.wav) with unsegmented manatee calls mixed with background noise that lasts approximately 30 seconds. \n",
    "\n",
    "The sampling rate is 48 KHz"
   ]
  },
  {
   "cell_type": "markdown",
   "id": "developmental-masters",
   "metadata": {},
   "source": [
    "#### Steps"
   ]
  },
  {
   "cell_type": "markdown",
   "id": "following-cinema",
   "metadata": {},
   "source": [
    "- Train an NLMS filter using the MCC cost function for the manatee calls train data and the background noise"
   ]
  },
  {
   "cell_type": "markdown",
   "id": "front-bench",
   "metadata": {},
   "source": [
    "## Project Implementation"
   ]
  },
  {
   "cell_type": "markdown",
   "id": "three-colon",
   "metadata": {},
   "source": [
    "#### Import Libraries"
   ]
  },
  {
   "cell_type": "code",
   "execution_count": 1,
   "id": "african-welding",
   "metadata": {},
   "outputs": [
    {
     "name": "stdout",
     "output_type": "stream",
     "text": [
      "time: 0 ns (started: 2021-04-10 19:54:52 -04:00)\n"
     ]
    }
   ],
   "source": [
    "import scipy.io\n",
    "from scipy.fft import fft, fftfreq, rfft, rfftfreq\n",
    "import numpy as np\n",
    "import pandas as pd\n",
    "import matplotlib.pyplot as plt\n",
    "import seaborn as sns\n",
    "import IPython.display as ipd\n",
    "%load_ext autotime"
   ]
  },
  {
   "cell_type": "markdown",
   "id": "pending-stream",
   "metadata": {},
   "source": [
    "#### Load files"
   ]
  }
 ],
 "metadata": {
  "kernelspec": {
   "display_name": "Python 3",
   "language": "python",
   "name": "python3"
  },
  "language_info": {
   "codemirror_mode": {
    "name": "ipython",
    "version": 3
   },
   "file_extension": ".py",
   "mimetype": "text/x-python",
   "name": "python",
   "nbconvert_exporter": "python",
   "pygments_lexer": "ipython3",
   "version": "3.8.5"
  }
 },
 "nbformat": 4,
 "nbformat_minor": 5
}
